{
 "cells": [
  {
   "cell_type": "markdown",
   "metadata": {},
   "source": [
    "Strongly inspirated by https://towardsdatascience.com/a-deep-dive-into-imbalanced-data-over-sampling-f1167ed74b5"
   ]
  },
  {
   "cell_type": "markdown",
   "metadata": {},
   "source": [
    "dataset -> https://www.kaggle.com/mlg-ulb/creditcardfraud/"
   ]
  },
  {
   "cell_type": "code",
   "execution_count": 1,
   "metadata": {},
   "outputs": [],
   "source": [
    "import numpy as np\n",
    "import pandas as pd\n",
    "import matplotlib.pyplot as plt\n",
    "import seaborn as sns\n",
    "\n",
    "from sklearn.preprocessing import StandardScaler\n",
    "from sklearn.model_selection import train_test_split\n",
    "\n",
    "from sklearn.manifold import TSNE\n",
    "\n",
    "import matplotlib.patches as mpatches\n",
    "\n",
    "from sklearn.model_selection import KFold\n",
    "from sklearn.model_selection import cross_val_score\n",
    "from sklearn.metrics import roc_auc_score\n",
    "from sklearn.metrics import classification_report\n",
    "from sklearn.metrics import confusion_matrix\n",
    "from sklearn.linear_model import LogisticRegression\n",
    "from sklearn.discriminant_analysis import LinearDiscriminantAnalysis\n",
    "from sklearn.neighbors import KNeighborsClassifier\n",
    "from sklearn.tree import DecisionTreeClassifier\n",
    "from sklearn.svm import SVC\n",
    "from xgboost import XGBClassifier\n",
    "from sklearn.ensemble import RandomForestClassifier\n",
    "\n",
    "import warnings\n",
    "warnings.filterwarnings(\"ignore\")\n",
    "\n",
    "# plt.style.use('ggplot')"
   ]
  },
  {
   "cell_type": "code",
   "execution_count": 2,
   "metadata": {},
   "outputs": [
    {
     "data": {
      "text/html": [
       "<div>\n",
       "<style scoped>\n",
       "    .dataframe tbody tr th:only-of-type {\n",
       "        vertical-align: middle;\n",
       "    }\n",
       "\n",
       "    .dataframe tbody tr th {\n",
       "        vertical-align: top;\n",
       "    }\n",
       "\n",
       "    .dataframe thead th {\n",
       "        text-align: right;\n",
       "    }\n",
       "</style>\n",
       "<table border=\"1\" class=\"dataframe\">\n",
       "  <thead>\n",
       "    <tr style=\"text-align: right;\">\n",
       "      <th></th>\n",
       "      <th>Time</th>\n",
       "      <th>V1</th>\n",
       "      <th>V2</th>\n",
       "      <th>V3</th>\n",
       "      <th>V4</th>\n",
       "      <th>V5</th>\n",
       "      <th>V6</th>\n",
       "      <th>V7</th>\n",
       "      <th>V8</th>\n",
       "      <th>V9</th>\n",
       "      <th>...</th>\n",
       "      <th>V21</th>\n",
       "      <th>V22</th>\n",
       "      <th>V23</th>\n",
       "      <th>V24</th>\n",
       "      <th>V25</th>\n",
       "      <th>V26</th>\n",
       "      <th>V27</th>\n",
       "      <th>V28</th>\n",
       "      <th>Amount</th>\n",
       "      <th>Class</th>\n",
       "    </tr>\n",
       "  </thead>\n",
       "  <tbody>\n",
       "    <tr>\n",
       "      <th>0</th>\n",
       "      <td>0.0</td>\n",
       "      <td>-1.359807</td>\n",
       "      <td>-0.072781</td>\n",
       "      <td>2.536347</td>\n",
       "      <td>1.378155</td>\n",
       "      <td>-0.338321</td>\n",
       "      <td>0.462388</td>\n",
       "      <td>0.239599</td>\n",
       "      <td>0.098698</td>\n",
       "      <td>0.363787</td>\n",
       "      <td>...</td>\n",
       "      <td>-0.018307</td>\n",
       "      <td>0.277838</td>\n",
       "      <td>-0.110474</td>\n",
       "      <td>0.066928</td>\n",
       "      <td>0.128539</td>\n",
       "      <td>-0.189115</td>\n",
       "      <td>0.133558</td>\n",
       "      <td>-0.021053</td>\n",
       "      <td>149.62</td>\n",
       "      <td>0</td>\n",
       "    </tr>\n",
       "    <tr>\n",
       "      <th>1</th>\n",
       "      <td>0.0</td>\n",
       "      <td>1.191857</td>\n",
       "      <td>0.266151</td>\n",
       "      <td>0.166480</td>\n",
       "      <td>0.448154</td>\n",
       "      <td>0.060018</td>\n",
       "      <td>-0.082361</td>\n",
       "      <td>-0.078803</td>\n",
       "      <td>0.085102</td>\n",
       "      <td>-0.255425</td>\n",
       "      <td>...</td>\n",
       "      <td>-0.225775</td>\n",
       "      <td>-0.638672</td>\n",
       "      <td>0.101288</td>\n",
       "      <td>-0.339846</td>\n",
       "      <td>0.167170</td>\n",
       "      <td>0.125895</td>\n",
       "      <td>-0.008983</td>\n",
       "      <td>0.014724</td>\n",
       "      <td>2.69</td>\n",
       "      <td>0</td>\n",
       "    </tr>\n",
       "    <tr>\n",
       "      <th>2</th>\n",
       "      <td>1.0</td>\n",
       "      <td>-1.358354</td>\n",
       "      <td>-1.340163</td>\n",
       "      <td>1.773209</td>\n",
       "      <td>0.379780</td>\n",
       "      <td>-0.503198</td>\n",
       "      <td>1.800499</td>\n",
       "      <td>0.791461</td>\n",
       "      <td>0.247676</td>\n",
       "      <td>-1.514654</td>\n",
       "      <td>...</td>\n",
       "      <td>0.247998</td>\n",
       "      <td>0.771679</td>\n",
       "      <td>0.909412</td>\n",
       "      <td>-0.689281</td>\n",
       "      <td>-0.327642</td>\n",
       "      <td>-0.139097</td>\n",
       "      <td>-0.055353</td>\n",
       "      <td>-0.059752</td>\n",
       "      <td>378.66</td>\n",
       "      <td>0</td>\n",
       "    </tr>\n",
       "    <tr>\n",
       "      <th>3</th>\n",
       "      <td>1.0</td>\n",
       "      <td>-0.966272</td>\n",
       "      <td>-0.185226</td>\n",
       "      <td>1.792993</td>\n",
       "      <td>-0.863291</td>\n",
       "      <td>-0.010309</td>\n",
       "      <td>1.247203</td>\n",
       "      <td>0.237609</td>\n",
       "      <td>0.377436</td>\n",
       "      <td>-1.387024</td>\n",
       "      <td>...</td>\n",
       "      <td>-0.108300</td>\n",
       "      <td>0.005274</td>\n",
       "      <td>-0.190321</td>\n",
       "      <td>-1.175575</td>\n",
       "      <td>0.647376</td>\n",
       "      <td>-0.221929</td>\n",
       "      <td>0.062723</td>\n",
       "      <td>0.061458</td>\n",
       "      <td>123.50</td>\n",
       "      <td>0</td>\n",
       "    </tr>\n",
       "    <tr>\n",
       "      <th>4</th>\n",
       "      <td>2.0</td>\n",
       "      <td>-1.158233</td>\n",
       "      <td>0.877737</td>\n",
       "      <td>1.548718</td>\n",
       "      <td>0.403034</td>\n",
       "      <td>-0.407193</td>\n",
       "      <td>0.095921</td>\n",
       "      <td>0.592941</td>\n",
       "      <td>-0.270533</td>\n",
       "      <td>0.817739</td>\n",
       "      <td>...</td>\n",
       "      <td>-0.009431</td>\n",
       "      <td>0.798278</td>\n",
       "      <td>-0.137458</td>\n",
       "      <td>0.141267</td>\n",
       "      <td>-0.206010</td>\n",
       "      <td>0.502292</td>\n",
       "      <td>0.219422</td>\n",
       "      <td>0.215153</td>\n",
       "      <td>69.99</td>\n",
       "      <td>0</td>\n",
       "    </tr>\n",
       "  </tbody>\n",
       "</table>\n",
       "<p>5 rows × 31 columns</p>\n",
       "</div>"
      ],
      "text/plain": [
       "   Time        V1        V2        V3        V4        V5        V6        V7  \\\n",
       "0   0.0 -1.359807 -0.072781  2.536347  1.378155 -0.338321  0.462388  0.239599   \n",
       "1   0.0  1.191857  0.266151  0.166480  0.448154  0.060018 -0.082361 -0.078803   \n",
       "2   1.0 -1.358354 -1.340163  1.773209  0.379780 -0.503198  1.800499  0.791461   \n",
       "3   1.0 -0.966272 -0.185226  1.792993 -0.863291 -0.010309  1.247203  0.237609   \n",
       "4   2.0 -1.158233  0.877737  1.548718  0.403034 -0.407193  0.095921  0.592941   \n",
       "\n",
       "         V8        V9  ...       V21       V22       V23       V24       V25  \\\n",
       "0  0.098698  0.363787  ... -0.018307  0.277838 -0.110474  0.066928  0.128539   \n",
       "1  0.085102 -0.255425  ... -0.225775 -0.638672  0.101288 -0.339846  0.167170   \n",
       "2  0.247676 -1.514654  ...  0.247998  0.771679  0.909412 -0.689281 -0.327642   \n",
       "3  0.377436 -1.387024  ... -0.108300  0.005274 -0.190321 -1.175575  0.647376   \n",
       "4 -0.270533  0.817739  ... -0.009431  0.798278 -0.137458  0.141267 -0.206010   \n",
       "\n",
       "        V26       V27       V28  Amount  Class  \n",
       "0 -0.189115  0.133558 -0.021053  149.62      0  \n",
       "1  0.125895 -0.008983  0.014724    2.69      0  \n",
       "2 -0.139097 -0.055353 -0.059752  378.66      0  \n",
       "3 -0.221929  0.062723  0.061458  123.50      0  \n",
       "4  0.502292  0.219422  0.215153   69.99      0  \n",
       "\n",
       "[5 rows x 31 columns]"
      ]
     },
     "execution_count": 2,
     "metadata": {},
     "output_type": "execute_result"
    }
   ],
   "source": [
    "df = pd.read_csv('./creditcard.csv')\n",
    "df.head()"
   ]
  },
  {
   "cell_type": "markdown",
   "metadata": {},
   "source": [
    "## Data Analysis"
   ]
  },
  {
   "cell_type": "code",
   "execution_count": 3,
   "metadata": {},
   "outputs": [
    {
     "name": "stdout",
     "output_type": "stream",
     "text": [
      "(284807, 31)\n",
      "<class 'pandas.core.frame.DataFrame'>\n",
      "RangeIndex: 284807 entries, 0 to 284806\n",
      "Data columns (total 31 columns):\n",
      "Time      284807 non-null float64\n",
      "V1        284807 non-null float64\n",
      "V2        284807 non-null float64\n",
      "V3        284807 non-null float64\n",
      "V4        284807 non-null float64\n",
      "V5        284807 non-null float64\n",
      "V6        284807 non-null float64\n",
      "V7        284807 non-null float64\n",
      "V8        284807 non-null float64\n",
      "V9        284807 non-null float64\n",
      "V10       284807 non-null float64\n",
      "V11       284807 non-null float64\n",
      "V12       284807 non-null float64\n",
      "V13       284807 non-null float64\n",
      "V14       284807 non-null float64\n",
      "V15       284807 non-null float64\n",
      "V16       284807 non-null float64\n",
      "V17       284807 non-null float64\n",
      "V18       284807 non-null float64\n",
      "V19       284807 non-null float64\n",
      "V20       284807 non-null float64\n",
      "V21       284807 non-null float64\n",
      "V22       284807 non-null float64\n",
      "V23       284807 non-null float64\n",
      "V24       284807 non-null float64\n",
      "V25       284807 non-null float64\n",
      "V26       284807 non-null float64\n",
      "V27       284807 non-null float64\n",
      "V28       284807 non-null float64\n",
      "Amount    284807 non-null float64\n",
      "Class     284807 non-null int64\n",
      "dtypes: float64(30), int64(1)\n",
      "memory usage: 67.4 MB\n"
     ]
    }
   ],
   "source": [
    "print(df.shape)\n",
    "df.info()"
   ]
  },
  {
   "cell_type": "code",
   "execution_count": 4,
   "metadata": {},
   "outputs": [
    {
     "data": {
      "text/html": [
       "<div>\n",
       "<style scoped>\n",
       "    .dataframe tbody tr th:only-of-type {\n",
       "        vertical-align: middle;\n",
       "    }\n",
       "\n",
       "    .dataframe tbody tr th {\n",
       "        vertical-align: top;\n",
       "    }\n",
       "\n",
       "    .dataframe thead th {\n",
       "        text-align: right;\n",
       "    }\n",
       "</style>\n",
       "<table border=\"1\" class=\"dataframe\">\n",
       "  <thead>\n",
       "    <tr style=\"text-align: right;\">\n",
       "      <th></th>\n",
       "      <th>Time</th>\n",
       "      <th>Amount</th>\n",
       "    </tr>\n",
       "  </thead>\n",
       "  <tbody>\n",
       "    <tr>\n",
       "      <th>count</th>\n",
       "      <td>284807.000</td>\n",
       "      <td>284807.000</td>\n",
       "    </tr>\n",
       "    <tr>\n",
       "      <th>mean</th>\n",
       "      <td>94813.860</td>\n",
       "      <td>88.350</td>\n",
       "    </tr>\n",
       "    <tr>\n",
       "      <th>std</th>\n",
       "      <td>47488.146</td>\n",
       "      <td>250.120</td>\n",
       "    </tr>\n",
       "    <tr>\n",
       "      <th>min</th>\n",
       "      <td>0.000</td>\n",
       "      <td>0.000</td>\n",
       "    </tr>\n",
       "    <tr>\n",
       "      <th>25%</th>\n",
       "      <td>54201.500</td>\n",
       "      <td>5.600</td>\n",
       "    </tr>\n",
       "    <tr>\n",
       "      <th>50%</th>\n",
       "      <td>84692.000</td>\n",
       "      <td>22.000</td>\n",
       "    </tr>\n",
       "    <tr>\n",
       "      <th>75%</th>\n",
       "      <td>139320.500</td>\n",
       "      <td>77.165</td>\n",
       "    </tr>\n",
       "    <tr>\n",
       "      <th>max</th>\n",
       "      <td>172792.000</td>\n",
       "      <td>25691.160</td>\n",
       "    </tr>\n",
       "  </tbody>\n",
       "</table>\n",
       "</div>"
      ],
      "text/plain": [
       "             Time      Amount\n",
       "count  284807.000  284807.000\n",
       "mean    94813.860      88.350\n",
       "std     47488.146     250.120\n",
       "min         0.000       0.000\n",
       "25%     54201.500       5.600\n",
       "50%     84692.000      22.000\n",
       "75%    139320.500      77.165\n",
       "max    172792.000   25691.160"
      ]
     },
     "execution_count": 4,
     "metadata": {},
     "output_type": "execute_result"
    }
   ],
   "source": [
    "pd.set_option('precision', 3)\n",
    "df.loc[:, ['Time', 'Amount']].describe()"
   ]
  },
  {
   "cell_type": "code",
   "execution_count": 5,
   "metadata": {},
   "outputs": [
    {
     "data": {
      "text/plain": [
       "<matplotlib.axes._subplots.AxesSubplot at 0x7fa1489f0c18>"
      ]
     },
     "execution_count": 5,
     "metadata": {},
     "output_type": "execute_result"
    },
    {
     "data": {
      "image/png": "[encoded data removed]",
      "text/plain": [
       "<Figure size 720x576 with 1 Axes>"
      ]
     },
     "metadata": {
      "needs_background": "light"
     },
     "output_type": "display_data"
    }
   ],
   "source": [
    "plt.figure(figsize=(10,8))\n",
    "plt.title('Time Distribution')\n",
    "sns.distplot(df.Time)"
   ]
  },
  {
   "cell_type": "code",
   "execution_count": 6,
   "metadata": {},
   "outputs": [
    {
     "data": {
      "text/plain": [
       "<matplotlib.axes._subplots.AxesSubplot at 0x7fa106091b38>"
      ]
     },
     "execution_count": 6,
     "metadata": {},
     "output_type": "execute_result"
    },
    {
     "data": {
      "image/png": "[encoded data removed]",
      "text/plain": [
       "<Figure size 720x576 with 1 Axes>"
      ]
     },
     "metadata": {
      "needs_background": "light"
     },
     "output_type": "display_data"
    }
   ],
   "source": [
    "plt.figure(figsize=(10,8))\n",
    "plt.title('Amount Distribution')\n",
    "sns.distplot(df.Amount)"
   ]
  },
  {
   "cell_type": "code",
   "execution_count": 7,
   "metadata": {},
   "outputs": [
    {
     "data": {
      "text/plain": [
       "Text(0.5, 0, 'Class (0:Non-Fraudulent, 1:Fraudulent)')"
      ]
     },
     "execution_count": 7,
     "metadata": {},
     "output_type": "execute_result"
    },
    {
     "data": {
      "image/png": "[encoded data removed]",
      "text/plain": [
       "<Figure size 576x432 with 1 Axes>"
      ]
     },
     "metadata": {
      "needs_background": "light"
     },
     "output_type": "display_data"
    }
   ],
   "source": [
    "plt.figure(figsize=(8,6))\n",
    "sns.countplot(df.Class)\n",
    "plt.title('Count of Fraudulent vs. Non-Fraudulent Transactions')\n",
    "plt.ylabel('Count')\n",
    "plt.xlabel('Class (0:Non-Fraudulent, 1:Fraudulent)')"
   ]
  },
  {
   "cell_type": "code",
   "execution_count": 8,
   "metadata": {},
   "outputs": [
    {
     "name": "stdout",
     "output_type": "stream",
     "text": [
      "Percentage of Fraudulent records: 0.1727485630620034\n",
      "Count Fraudulent records: 492\n",
      "Percentage of Non-Fraudulent records: 99.82725143693798\n",
      "Count Non-Fraudulent records: 284315\n"
     ]
    }
   ],
   "source": [
    "print(\"Percentage of Fraudulent records:\", df[df['Class']==1]['Class'].count()/df.shape[0]*100)\n",
    "print(\"Count Fraudulent records:\", df[df['Class']==1]['Class'].count())\n",
    "print(\"Percentage of Non-Fraudulent records:\", df[df['Class']==0]['Class'].count()/df.shape[0]*100)\n",
    "print(\"Count Non-Fraudulent records:\", df[df['Class']==0]['Class'].count())\n"
   ]
  },
  {
   "cell_type": "code",
   "execution_count": 9,
   "metadata": {},
   "outputs": [
    {
     "data": {
      "text/plain": [
       "Text(0.5, 1, 'Heatmap of Correlation')"
      ]
     },
     "execution_count": 9,
     "metadata": {},
     "output_type": "execute_result"
    },
    {
     "data": {
      "image/png": "[encoded data removed]",
      "text/plain": [
       "<Figure size 864x720 with 2 Axes>"
      ]
     },
     "metadata": {
      "needs_background": "light"
     },
     "output_type": "display_data"
    }
   ],
   "source": [
    "plt.figure(figsize=(12,10))\n",
    "heat = sns.heatmap(data=df.corr())\n",
    "plt.title('Heatmap of Correlation')"
   ]
  },
  {
   "cell_type": "markdown",
   "metadata": {},
   "source": [
    "## Data Preparation"
   ]
  },
  {
   "cell_type": "code",
   "execution_count": 10,
   "metadata": {},
   "outputs": [],
   "source": [
    "scalerTime = StandardScaler()\n",
    "scalerAmount = StandardScaler()\n",
    "#scaling time\n",
    "df[['Time']] = scalerTime.fit_transform(df[['Time']])\n",
    "df[['Amount']] = scalerAmount.fit_transform(df[['Amount']])"
   ]
  },
  {
   "cell_type": "code",
   "execution_count": 11,
   "metadata": {},
   "outputs": [
    {
     "data": {
      "text/html": [
       "<div>\n",
       "<style scoped>\n",
       "    .dataframe tbody tr th:only-of-type {\n",
       "        vertical-align: middle;\n",
       "    }\n",
       "\n",
       "    .dataframe tbody tr th {\n",
       "        vertical-align: top;\n",
       "    }\n",
       "\n",
       "    .dataframe thead th {\n",
       "        text-align: right;\n",
       "    }\n",
       "</style>\n",
       "<table border=\"1\" class=\"dataframe\">\n",
       "  <thead>\n",
       "    <tr style=\"text-align: right;\">\n",
       "      <th></th>\n",
       "      <th>Time</th>\n",
       "      <th>V1</th>\n",
       "      <th>V2</th>\n",
       "      <th>V3</th>\n",
       "      <th>V4</th>\n",
       "      <th>V5</th>\n",
       "      <th>V6</th>\n",
       "      <th>V7</th>\n",
       "      <th>V8</th>\n",
       "      <th>V9</th>\n",
       "      <th>...</th>\n",
       "      <th>V21</th>\n",
       "      <th>V22</th>\n",
       "      <th>V23</th>\n",
       "      <th>V24</th>\n",
       "      <th>V25</th>\n",
       "      <th>V26</th>\n",
       "      <th>V27</th>\n",
       "      <th>V28</th>\n",
       "      <th>Amount</th>\n",
       "      <th>Class</th>\n",
       "    </tr>\n",
       "  </thead>\n",
       "  <tbody>\n",
       "    <tr>\n",
       "      <th>265986</th>\n",
       "      <td>1.418</td>\n",
       "      <td>-0.050</td>\n",
       "      <td>1.140</td>\n",
       "      <td>-0.931</td>\n",
       "      <td>-0.037</td>\n",
       "      <td>0.271</td>\n",
       "      <td>-1.308</td>\n",
       "      <td>0.754</td>\n",
       "      <td>0.127</td>\n",
       "      <td>-0.240</td>\n",
       "      <td>...</td>\n",
       "      <td>0.364</td>\n",
       "      <td>0.992</td>\n",
       "      <td>-0.045</td>\n",
       "      <td>-0.097</td>\n",
       "      <td>-0.349</td>\n",
       "      <td>-0.151</td>\n",
       "      <td>-0.012</td>\n",
       "      <td>0.043</td>\n",
       "      <td>-0.182</td>\n",
       "      <td>0</td>\n",
       "    </tr>\n",
       "    <tr>\n",
       "      <th>62150</th>\n",
       "      <td>-0.940</td>\n",
       "      <td>1.269</td>\n",
       "      <td>-1.293</td>\n",
       "      <td>0.143</td>\n",
       "      <td>-1.499</td>\n",
       "      <td>-1.132</td>\n",
       "      <td>-0.038</td>\n",
       "      <td>-0.860</td>\n",
       "      <td>-0.036</td>\n",
       "      <td>-2.270</td>\n",
       "      <td>...</td>\n",
       "      <td>-0.084</td>\n",
       "      <td>-0.041</td>\n",
       "      <td>-0.094</td>\n",
       "      <td>-0.304</td>\n",
       "      <td>0.339</td>\n",
       "      <td>-0.181</td>\n",
       "      <td>0.025</td>\n",
       "      <td>0.022</td>\n",
       "      <td>0.101</td>\n",
       "      <td>0</td>\n",
       "    </tr>\n",
       "    <tr>\n",
       "      <th>88356</th>\n",
       "      <td>-0.689</td>\n",
       "      <td>1.109</td>\n",
       "      <td>-0.343</td>\n",
       "      <td>-1.013</td>\n",
       "      <td>0.371</td>\n",
       "      <td>1.937</td>\n",
       "      <td>3.816</td>\n",
       "      <td>-0.555</td>\n",
       "      <td>0.907</td>\n",
       "      <td>0.388</td>\n",
       "      <td>...</td>\n",
       "      <td>-0.071</td>\n",
       "      <td>-0.267</td>\n",
       "      <td>-0.219</td>\n",
       "      <td>1.027</td>\n",
       "      <td>0.870</td>\n",
       "      <td>-0.264</td>\n",
       "      <td>0.026</td>\n",
       "      <td>0.028</td>\n",
       "      <td>-0.038</td>\n",
       "      <td>0</td>\n",
       "    </tr>\n",
       "    <tr>\n",
       "      <th>53086</th>\n",
       "      <td>-1.032</td>\n",
       "      <td>-0.306</td>\n",
       "      <td>1.059</td>\n",
       "      <td>0.824</td>\n",
       "      <td>-0.329</td>\n",
       "      <td>0.656</td>\n",
       "      <td>0.026</td>\n",
       "      <td>0.620</td>\n",
       "      <td>0.134</td>\n",
       "      <td>-0.611</td>\n",
       "      <td>...</td>\n",
       "      <td>-0.284</td>\n",
       "      <td>-0.773</td>\n",
       "      <td>-0.164</td>\n",
       "      <td>-0.883</td>\n",
       "      <td>-0.026</td>\n",
       "      <td>0.126</td>\n",
       "      <td>0.240</td>\n",
       "      <td>0.077</td>\n",
       "      <td>-0.321</td>\n",
       "      <td>0</td>\n",
       "    </tr>\n",
       "    <tr>\n",
       "      <th>236764</th>\n",
       "      <td>1.140</td>\n",
       "      <td>2.162</td>\n",
       "      <td>-1.658</td>\n",
       "      <td>-0.903</td>\n",
       "      <td>-1.343</td>\n",
       "      <td>-1.229</td>\n",
       "      <td>0.017</td>\n",
       "      <td>-1.193</td>\n",
       "      <td>0.050</td>\n",
       "      <td>-0.912</td>\n",
       "      <td>...</td>\n",
       "      <td>-0.462</td>\n",
       "      <td>-0.747</td>\n",
       "      <td>0.315</td>\n",
       "      <td>0.729</td>\n",
       "      <td>-0.212</td>\n",
       "      <td>-0.380</td>\n",
       "      <td>0.005</td>\n",
       "      <td>-0.051</td>\n",
       "      <td>-0.154</td>\n",
       "      <td>0</td>\n",
       "    </tr>\n",
       "  </tbody>\n",
       "</table>\n",
       "<p>5 rows × 31 columns</p>\n",
       "</div>"
      ],
      "text/plain": [
       "         Time     V1     V2     V3     V4     V5     V6     V7     V8     V9  \\\n",
       "265986  1.418 -0.050  1.140 -0.931 -0.037  0.271 -1.308  0.754  0.127 -0.240   \n",
       "62150  -0.940  1.269 -1.293  0.143 -1.499 -1.132 -0.038 -0.860 -0.036 -2.270   \n",
       "88356  -0.689  1.109 -0.343 -1.013  0.371  1.937  3.816 -0.555  0.907  0.388   \n",
       "53086  -1.032 -0.306  1.059  0.824 -0.329  0.656  0.026  0.620  0.134 -0.611   \n",
       "236764  1.140  2.162 -1.658 -0.903 -1.343 -1.229  0.017 -1.193  0.050 -0.912   \n",
       "\n",
       "        ...    V21    V22    V23    V24    V25    V26    V27    V28  Amount  \\\n",
       "265986  ...  0.364  0.992 -0.045 -0.097 -0.349 -0.151 -0.012  0.043  -0.182   \n",
       "62150   ... -0.084 -0.041 -0.094 -0.304  0.339 -0.181  0.025  0.022   0.101   \n",
       "88356   ... -0.071 -0.267 -0.219  1.027  0.870 -0.264  0.026  0.028  -0.038   \n",
       "53086   ... -0.284 -0.773 -0.164 -0.883 -0.026  0.126  0.240  0.077  -0.321   \n",
       "236764  ... -0.462 -0.747  0.315  0.729 -0.212 -0.380  0.005 -0.051  -0.154   \n",
       "\n",
       "        Class  \n",
       "265986      0  \n",
       "62150       0  \n",
       "88356       0  \n",
       "53086       0  \n",
       "236764      0  \n",
       "\n",
       "[5 rows x 31 columns]"
      ]
     },
     "execution_count": 11,
     "metadata": {},
     "output_type": "execute_result"
    }
   ],
   "source": [
    "df.sample(5)"
   ]
  },
  {
   "cell_type": "markdown",
   "metadata": {},
   "source": [
    "### Random under-sampling"
   ]
  },
  {
   "cell_type": "code",
   "execution_count": 12,
   "metadata": {},
   "outputs": [
    {
     "data": {
      "text/html": [
       "<div>\n",
       "<style scoped>\n",
       "    .dataframe tbody tr th:only-of-type {\n",
       "        vertical-align: middle;\n",
       "    }\n",
       "\n",
       "    .dataframe tbody tr th {\n",
       "        vertical-align: top;\n",
       "    }\n",
       "\n",
       "    .dataframe thead th {\n",
       "        text-align: right;\n",
       "    }\n",
       "</style>\n",
       "<table border=\"1\" class=\"dataframe\">\n",
       "  <thead>\n",
       "    <tr style=\"text-align: right;\">\n",
       "      <th></th>\n",
       "      <th>Time</th>\n",
       "      <th>V1</th>\n",
       "      <th>V2</th>\n",
       "      <th>V3</th>\n",
       "      <th>V4</th>\n",
       "      <th>V5</th>\n",
       "      <th>V6</th>\n",
       "      <th>V7</th>\n",
       "      <th>V8</th>\n",
       "      <th>V9</th>\n",
       "      <th>...</th>\n",
       "      <th>V21</th>\n",
       "      <th>V22</th>\n",
       "      <th>V23</th>\n",
       "      <th>V24</th>\n",
       "      <th>V25</th>\n",
       "      <th>V26</th>\n",
       "      <th>V27</th>\n",
       "      <th>V28</th>\n",
       "      <th>Amount</th>\n",
       "      <th>Class</th>\n",
       "    </tr>\n",
       "  </thead>\n",
       "  <tbody>\n",
       "    <tr>\n",
       "      <th>541</th>\n",
       "      <td>-1.988</td>\n",
       "      <td>-2.312</td>\n",
       "      <td>1.952</td>\n",
       "      <td>-1.610</td>\n",
       "      <td>3.998</td>\n",
       "      <td>-0.522</td>\n",
       "      <td>-1.427</td>\n",
       "      <td>-2.537</td>\n",
       "      <td>1.392</td>\n",
       "      <td>-2.770</td>\n",
       "      <td>...</td>\n",
       "      <td>0.517</td>\n",
       "      <td>-0.035</td>\n",
       "      <td>-0.465</td>\n",
       "      <td>0.320</td>\n",
       "      <td>0.045</td>\n",
       "      <td>0.178</td>\n",
       "      <td>0.261</td>\n",
       "      <td>-0.143</td>\n",
       "      <td>-0.353</td>\n",
       "      <td>1</td>\n",
       "    </tr>\n",
       "    <tr>\n",
       "      <th>623</th>\n",
       "      <td>-1.987</td>\n",
       "      <td>-3.044</td>\n",
       "      <td>-3.157</td>\n",
       "      <td>1.088</td>\n",
       "      <td>2.289</td>\n",
       "      <td>1.360</td>\n",
       "      <td>-1.065</td>\n",
       "      <td>0.326</td>\n",
       "      <td>-0.068</td>\n",
       "      <td>-0.271</td>\n",
       "      <td>...</td>\n",
       "      <td>0.662</td>\n",
       "      <td>0.435</td>\n",
       "      <td>1.376</td>\n",
       "      <td>-0.294</td>\n",
       "      <td>0.280</td>\n",
       "      <td>-0.145</td>\n",
       "      <td>-0.253</td>\n",
       "      <td>0.036</td>\n",
       "      <td>1.762</td>\n",
       "      <td>1</td>\n",
       "    </tr>\n",
       "    <tr>\n",
       "      <th>4920</th>\n",
       "      <td>-1.903</td>\n",
       "      <td>-2.303</td>\n",
       "      <td>1.759</td>\n",
       "      <td>-0.360</td>\n",
       "      <td>2.330</td>\n",
       "      <td>-0.822</td>\n",
       "      <td>-0.076</td>\n",
       "      <td>0.562</td>\n",
       "      <td>-0.399</td>\n",
       "      <td>-0.238</td>\n",
       "      <td>...</td>\n",
       "      <td>-0.294</td>\n",
       "      <td>-0.932</td>\n",
       "      <td>0.173</td>\n",
       "      <td>-0.087</td>\n",
       "      <td>-0.156</td>\n",
       "      <td>-0.543</td>\n",
       "      <td>0.040</td>\n",
       "      <td>-0.153</td>\n",
       "      <td>0.606</td>\n",
       "      <td>1</td>\n",
       "    </tr>\n",
       "    <tr>\n",
       "      <th>6108</th>\n",
       "      <td>-1.849</td>\n",
       "      <td>-4.398</td>\n",
       "      <td>1.358</td>\n",
       "      <td>-2.593</td>\n",
       "      <td>2.680</td>\n",
       "      <td>-1.128</td>\n",
       "      <td>-1.707</td>\n",
       "      <td>-3.496</td>\n",
       "      <td>-0.249</td>\n",
       "      <td>-0.248</td>\n",
       "      <td>...</td>\n",
       "      <td>0.574</td>\n",
       "      <td>0.177</td>\n",
       "      <td>-0.436</td>\n",
       "      <td>-0.054</td>\n",
       "      <td>0.252</td>\n",
       "      <td>-0.657</td>\n",
       "      <td>-0.827</td>\n",
       "      <td>0.850</td>\n",
       "      <td>-0.117</td>\n",
       "      <td>1</td>\n",
       "    </tr>\n",
       "    <tr>\n",
       "      <th>6329</th>\n",
       "      <td>-1.838</td>\n",
       "      <td>1.234</td>\n",
       "      <td>3.020</td>\n",
       "      <td>-4.305</td>\n",
       "      <td>4.733</td>\n",
       "      <td>3.624</td>\n",
       "      <td>-1.358</td>\n",
       "      <td>1.713</td>\n",
       "      <td>-0.496</td>\n",
       "      <td>-1.283</td>\n",
       "      <td>...</td>\n",
       "      <td>-0.379</td>\n",
       "      <td>-0.704</td>\n",
       "      <td>-0.657</td>\n",
       "      <td>-1.633</td>\n",
       "      <td>1.489</td>\n",
       "      <td>0.567</td>\n",
       "      <td>-0.010</td>\n",
       "      <td>0.147</td>\n",
       "      <td>-0.349</td>\n",
       "      <td>1</td>\n",
       "    </tr>\n",
       "  </tbody>\n",
       "</table>\n",
       "<p>5 rows × 31 columns</p>\n",
       "</div>"
      ],
      "text/plain": [
       "       Time     V1     V2     V3     V4     V5     V6     V7     V8     V9  \\\n",
       "541  -1.988 -2.312  1.952 -1.610  3.998 -0.522 -1.427 -2.537  1.392 -2.770   \n",
       "623  -1.987 -3.044 -3.157  1.088  2.289  1.360 -1.065  0.326 -0.068 -0.271   \n",
       "4920 -1.903 -2.303  1.759 -0.360  2.330 -0.822 -0.076  0.562 -0.399 -0.238   \n",
       "6108 -1.849 -4.398  1.358 -2.593  2.680 -1.128 -1.707 -3.496 -0.249 -0.248   \n",
       "6329 -1.838  1.234  3.020 -4.305  4.733  3.624 -1.358  1.713 -0.496 -1.283   \n",
       "\n",
       "      ...    V21    V22    V23    V24    V25    V26    V27    V28  Amount  \\\n",
       "541   ...  0.517 -0.035 -0.465  0.320  0.045  0.178  0.261 -0.143  -0.353   \n",
       "623   ...  0.662  0.435  1.376 -0.294  0.280 -0.145 -0.253  0.036   1.762   \n",
       "4920  ... -0.294 -0.932  0.173 -0.087 -0.156 -0.543  0.040 -0.153   0.606   \n",
       "6108  ...  0.574  0.177 -0.436 -0.054  0.252 -0.657 -0.827  0.850  -0.117   \n",
       "6329  ... -0.379 -0.704 -0.657 -1.633  1.489  0.567 -0.010  0.147  -0.349   \n",
       "\n",
       "      Class  \n",
       "541       1  \n",
       "623       1  \n",
       "4920      1  \n",
       "6108      1  \n",
       "6329      1  \n",
       "\n",
       "[5 rows x 31 columns]"
      ]
     },
     "execution_count": 12,
     "metadata": {},
     "output_type": "execute_result"
    }
   ],
   "source": [
    "frauds = df[df['Class'] == 1]\n",
    "frauds.head()"
   ]
  },
  {
   "cell_type": "code",
   "execution_count": 13,
   "metadata": {},
   "outputs": [
    {
     "data": {
      "text/html": [
       "<div>\n",
       "<style scoped>\n",
       "    .dataframe tbody tr th:only-of-type {\n",
       "        vertical-align: middle;\n",
       "    }\n",
       "\n",
       "    .dataframe tbody tr th {\n",
       "        vertical-align: top;\n",
       "    }\n",
       "\n",
       "    .dataframe thead th {\n",
       "        text-align: right;\n",
       "    }\n",
       "</style>\n",
       "<table border=\"1\" class=\"dataframe\">\n",
       "  <thead>\n",
       "    <tr style=\"text-align: right;\">\n",
       "      <th></th>\n",
       "      <th>Time</th>\n",
       "      <th>V1</th>\n",
       "      <th>V2</th>\n",
       "      <th>V3</th>\n",
       "      <th>V4</th>\n",
       "      <th>V5</th>\n",
       "      <th>V6</th>\n",
       "      <th>V7</th>\n",
       "      <th>V8</th>\n",
       "      <th>V9</th>\n",
       "      <th>...</th>\n",
       "      <th>V21</th>\n",
       "      <th>V22</th>\n",
       "      <th>V23</th>\n",
       "      <th>V24</th>\n",
       "      <th>V25</th>\n",
       "      <th>V26</th>\n",
       "      <th>V27</th>\n",
       "      <th>V28</th>\n",
       "      <th>Amount</th>\n",
       "      <th>Class</th>\n",
       "    </tr>\n",
       "  </thead>\n",
       "  <tbody>\n",
       "    <tr>\n",
       "      <th>99337</th>\n",
       "      <td>-0.584</td>\n",
       "      <td>0.820</td>\n",
       "      <td>-1.074</td>\n",
       "      <td>0.932</td>\n",
       "      <td>0.292</td>\n",
       "      <td>-1.433</td>\n",
       "      <td>-0.026</td>\n",
       "      <td>-0.605</td>\n",
       "      <td>0.229</td>\n",
       "      <td>1.122</td>\n",
       "      <td>...</td>\n",
       "      <td>-0.088</td>\n",
       "      <td>-0.502</td>\n",
       "      <td>-0.075</td>\n",
       "      <td>0.390</td>\n",
       "      <td>-0.004</td>\n",
       "      <td>0.910</td>\n",
       "      <td>-0.080</td>\n",
       "      <td>0.033</td>\n",
       "      <td>0.400</td>\n",
       "      <td>0</td>\n",
       "    </tr>\n",
       "    <tr>\n",
       "      <th>143414</th>\n",
       "      <td>-0.200</td>\n",
       "      <td>1.395</td>\n",
       "      <td>-0.726</td>\n",
       "      <td>0.514</td>\n",
       "      <td>-0.737</td>\n",
       "      <td>-1.243</td>\n",
       "      <td>-0.672</td>\n",
       "      <td>-0.873</td>\n",
       "      <td>0.005</td>\n",
       "      <td>-0.286</td>\n",
       "      <td>...</td>\n",
       "      <td>-0.003</td>\n",
       "      <td>-0.235</td>\n",
       "      <td>0.026</td>\n",
       "      <td>-0.176</td>\n",
       "      <td>0.246</td>\n",
       "      <td>-0.331</td>\n",
       "      <td>0.006</td>\n",
       "      <td>0.019</td>\n",
       "      <td>-0.251</td>\n",
       "      <td>0</td>\n",
       "    </tr>\n",
       "    <tr>\n",
       "      <th>254972</th>\n",
       "      <td>1.310</td>\n",
       "      <td>-0.780</td>\n",
       "      <td>0.566</td>\n",
       "      <td>1.028</td>\n",
       "      <td>-0.741</td>\n",
       "      <td>-0.161</td>\n",
       "      <td>0.212</td>\n",
       "      <td>-0.112</td>\n",
       "      <td>0.441</td>\n",
       "      <td>0.410</td>\n",
       "      <td>...</td>\n",
       "      <td>0.325</td>\n",
       "      <td>0.948</td>\n",
       "      <td>-0.064</td>\n",
       "      <td>0.797</td>\n",
       "      <td>-0.775</td>\n",
       "      <td>0.382</td>\n",
       "      <td>-0.392</td>\n",
       "      <td>-0.105</td>\n",
       "      <td>-0.307</td>\n",
       "      <td>0</td>\n",
       "    </tr>\n",
       "    <tr>\n",
       "      <th>216626</th>\n",
       "      <td>0.963</td>\n",
       "      <td>-2.156</td>\n",
       "      <td>0.845</td>\n",
       "      <td>-0.211</td>\n",
       "      <td>-3.879</td>\n",
       "      <td>0.727</td>\n",
       "      <td>0.885</td>\n",
       "      <td>0.160</td>\n",
       "      <td>1.370</td>\n",
       "      <td>0.402</td>\n",
       "      <td>...</td>\n",
       "      <td>-0.342</td>\n",
       "      <td>-1.188</td>\n",
       "      <td>-0.089</td>\n",
       "      <td>-1.017</td>\n",
       "      <td>0.468</td>\n",
       "      <td>-0.724</td>\n",
       "      <td>0.176</td>\n",
       "      <td>-0.052</td>\n",
       "      <td>-0.124</td>\n",
       "      <td>0</td>\n",
       "    </tr>\n",
       "    <tr>\n",
       "      <th>235498</th>\n",
       "      <td>1.129</td>\n",
       "      <td>2.132</td>\n",
       "      <td>-1.126</td>\n",
       "      <td>-0.765</td>\n",
       "      <td>-1.057</td>\n",
       "      <td>-0.818</td>\n",
       "      <td>0.077</td>\n",
       "      <td>-1.183</td>\n",
       "      <td>0.146</td>\n",
       "      <td>0.004</td>\n",
       "      <td>...</td>\n",
       "      <td>0.343</td>\n",
       "      <td>0.941</td>\n",
       "      <td>0.111</td>\n",
       "      <td>0.367</td>\n",
       "      <td>-0.142</td>\n",
       "      <td>-0.117</td>\n",
       "      <td>-0.006</td>\n",
       "      <td>-0.054</td>\n",
       "      <td>-0.253</td>\n",
       "      <td>0</td>\n",
       "    </tr>\n",
       "  </tbody>\n",
       "</table>\n",
       "<p>5 rows × 31 columns</p>\n",
       "</div>"
      ],
      "text/plain": [
       "         Time     V1     V2     V3     V4     V5     V6     V7     V8     V9  \\\n",
       "99337  -0.584  0.820 -1.074  0.932  0.292 -1.433 -0.026 -0.605  0.229  1.122   \n",
       "143414 -0.200  1.395 -0.726  0.514 -0.737 -1.243 -0.672 -0.873  0.005 -0.286   \n",
       "254972  1.310 -0.780  0.566  1.028 -0.741 -0.161  0.212 -0.112  0.441  0.410   \n",
       "216626  0.963 -2.156  0.845 -0.211 -3.879  0.727  0.885  0.160  1.370  0.402   \n",
       "235498  1.129  2.132 -1.126 -0.765 -1.057 -0.818  0.077 -1.183  0.146  0.004   \n",
       "\n",
       "        ...    V21    V22    V23    V24    V25    V26    V27    V28  Amount  \\\n",
       "99337   ... -0.088 -0.502 -0.075  0.390 -0.004  0.910 -0.080  0.033   0.400   \n",
       "143414  ... -0.003 -0.235  0.026 -0.176  0.246 -0.331  0.006  0.019  -0.251   \n",
       "254972  ...  0.325  0.948 -0.064  0.797 -0.775  0.382 -0.392 -0.105  -0.307   \n",
       "216626  ... -0.342 -1.188 -0.089 -1.017  0.468 -0.724  0.176 -0.052  -0.124   \n",
       "235498  ...  0.343  0.941  0.111  0.367 -0.142 -0.117 -0.006 -0.054  -0.253   \n",
       "\n",
       "        Class  \n",
       "99337       0  \n",
       "143414      0  \n",
       "254972      0  \n",
       "216626      0  \n",
       "235498      0  \n",
       "\n",
       "[5 rows x 31 columns]"
      ]
     },
     "execution_count": 13,
     "metadata": {},
     "output_type": "execute_result"
    }
   ],
   "source": [
    "frauds_count = df[df['Class']==1]['Class'].count()\n",
    "selected = df[df['Class']==0].sample(frauds_count)\n",
    "selected.head()"
   ]
  },
  {
   "cell_type": "code",
   "execution_count": 14,
   "metadata": {},
   "outputs": [],
   "source": [
    "selected.reset_index(drop=True, inplace=True)\n",
    "frauds.reset_index(drop=True, inplace=True)"
   ]
  },
  {
   "cell_type": "code",
   "execution_count": 15,
   "metadata": {},
   "outputs": [
    {
     "data": {
      "text/html": [
       "<div>\n",
       "<style scoped>\n",
       "    .dataframe tbody tr th:only-of-type {\n",
       "        vertical-align: middle;\n",
       "    }\n",
       "\n",
       "    .dataframe tbody tr th {\n",
       "        vertical-align: top;\n",
       "    }\n",
       "\n",
       "    .dataframe thead th {\n",
       "        text-align: right;\n",
       "    }\n",
       "</style>\n",
       "<table border=\"1\" class=\"dataframe\">\n",
       "  <thead>\n",
       "    <tr style=\"text-align: right;\">\n",
       "      <th></th>\n",
       "      <th>Time</th>\n",
       "      <th>V1</th>\n",
       "      <th>V2</th>\n",
       "      <th>V3</th>\n",
       "      <th>V4</th>\n",
       "      <th>V5</th>\n",
       "      <th>V6</th>\n",
       "      <th>V7</th>\n",
       "      <th>V8</th>\n",
       "      <th>V9</th>\n",
       "      <th>...</th>\n",
       "      <th>V21</th>\n",
       "      <th>V22</th>\n",
       "      <th>V23</th>\n",
       "      <th>V24</th>\n",
       "      <th>V25</th>\n",
       "      <th>V26</th>\n",
       "      <th>V27</th>\n",
       "      <th>V28</th>\n",
       "      <th>Amount</th>\n",
       "      <th>Class</th>\n",
       "    </tr>\n",
       "  </thead>\n",
       "  <tbody>\n",
       "    <tr>\n",
       "      <th>0</th>\n",
       "      <td>-0.584</td>\n",
       "      <td>0.820</td>\n",
       "      <td>-1.074</td>\n",
       "      <td>0.932</td>\n",
       "      <td>0.292</td>\n",
       "      <td>-1.433</td>\n",
       "      <td>-0.026</td>\n",
       "      <td>-0.605</td>\n",
       "      <td>0.229</td>\n",
       "      <td>1.122</td>\n",
       "      <td>...</td>\n",
       "      <td>-0.088</td>\n",
       "      <td>-0.502</td>\n",
       "      <td>-0.075</td>\n",
       "      <td>0.390</td>\n",
       "      <td>-0.004</td>\n",
       "      <td>0.910</td>\n",
       "      <td>-0.080</td>\n",
       "      <td>0.033</td>\n",
       "      <td>0.400</td>\n",
       "      <td>0</td>\n",
       "    </tr>\n",
       "    <tr>\n",
       "      <th>1</th>\n",
       "      <td>-0.200</td>\n",
       "      <td>1.395</td>\n",
       "      <td>-0.726</td>\n",
       "      <td>0.514</td>\n",
       "      <td>-0.737</td>\n",
       "      <td>-1.243</td>\n",
       "      <td>-0.672</td>\n",
       "      <td>-0.873</td>\n",
       "      <td>0.005</td>\n",
       "      <td>-0.286</td>\n",
       "      <td>...</td>\n",
       "      <td>-0.003</td>\n",
       "      <td>-0.235</td>\n",
       "      <td>0.026</td>\n",
       "      <td>-0.176</td>\n",
       "      <td>0.246</td>\n",
       "      <td>-0.331</td>\n",
       "      <td>0.006</td>\n",
       "      <td>0.019</td>\n",
       "      <td>-0.251</td>\n",
       "      <td>0</td>\n",
       "    </tr>\n",
       "    <tr>\n",
       "      <th>2</th>\n",
       "      <td>1.310</td>\n",
       "      <td>-0.780</td>\n",
       "      <td>0.566</td>\n",
       "      <td>1.028</td>\n",
       "      <td>-0.741</td>\n",
       "      <td>-0.161</td>\n",
       "      <td>0.212</td>\n",
       "      <td>-0.112</td>\n",
       "      <td>0.441</td>\n",
       "      <td>0.410</td>\n",
       "      <td>...</td>\n",
       "      <td>0.325</td>\n",
       "      <td>0.948</td>\n",
       "      <td>-0.064</td>\n",
       "      <td>0.797</td>\n",
       "      <td>-0.775</td>\n",
       "      <td>0.382</td>\n",
       "      <td>-0.392</td>\n",
       "      <td>-0.105</td>\n",
       "      <td>-0.307</td>\n",
       "      <td>0</td>\n",
       "    </tr>\n",
       "    <tr>\n",
       "      <th>3</th>\n",
       "      <td>0.963</td>\n",
       "      <td>-2.156</td>\n",
       "      <td>0.845</td>\n",
       "      <td>-0.211</td>\n",
       "      <td>-3.879</td>\n",
       "      <td>0.727</td>\n",
       "      <td>0.885</td>\n",
       "      <td>0.160</td>\n",
       "      <td>1.370</td>\n",
       "      <td>0.402</td>\n",
       "      <td>...</td>\n",
       "      <td>-0.342</td>\n",
       "      <td>-1.188</td>\n",
       "      <td>-0.089</td>\n",
       "      <td>-1.017</td>\n",
       "      <td>0.468</td>\n",
       "      <td>-0.724</td>\n",
       "      <td>0.176</td>\n",
       "      <td>-0.052</td>\n",
       "      <td>-0.124</td>\n",
       "      <td>0</td>\n",
       "    </tr>\n",
       "    <tr>\n",
       "      <th>4</th>\n",
       "      <td>1.129</td>\n",
       "      <td>2.132</td>\n",
       "      <td>-1.126</td>\n",
       "      <td>-0.765</td>\n",
       "      <td>-1.057</td>\n",
       "      <td>-0.818</td>\n",
       "      <td>0.077</td>\n",
       "      <td>-1.183</td>\n",
       "      <td>0.146</td>\n",
       "      <td>0.004</td>\n",
       "      <td>...</td>\n",
       "      <td>0.343</td>\n",
       "      <td>0.941</td>\n",
       "      <td>0.111</td>\n",
       "      <td>0.367</td>\n",
       "      <td>-0.142</td>\n",
       "      <td>-0.117</td>\n",
       "      <td>-0.006</td>\n",
       "      <td>-0.054</td>\n",
       "      <td>-0.253</td>\n",
       "      <td>0</td>\n",
       "    </tr>\n",
       "  </tbody>\n",
       "</table>\n",
       "<p>5 rows × 31 columns</p>\n",
       "</div>"
      ],
      "text/plain": [
       "    Time     V1     V2     V3     V4     V5     V6     V7     V8     V9  ...  \\\n",
       "0 -0.584  0.820 -1.074  0.932  0.292 -1.433 -0.026 -0.605  0.229  1.122  ...   \n",
       "1 -0.200  1.395 -0.726  0.514 -0.737 -1.243 -0.672 -0.873  0.005 -0.286  ...   \n",
       "2  1.310 -0.780  0.566  1.028 -0.741 -0.161  0.212 -0.112  0.441  0.410  ...   \n",
       "3  0.963 -2.156  0.845 -0.211 -3.879  0.727  0.885  0.160  1.370  0.402  ...   \n",
       "4  1.129  2.132 -1.126 -0.765 -1.057 -0.818  0.077 -1.183  0.146  0.004  ...   \n",
       "\n",
       "     V21    V22    V23    V24    V25    V26    V27    V28  Amount  Class  \n",
       "0 -0.088 -0.502 -0.075  0.390 -0.004  0.910 -0.080  0.033   0.400      0  \n",
       "1 -0.003 -0.235  0.026 -0.176  0.246 -0.331  0.006  0.019  -0.251      0  \n",
       "2  0.325  0.948 -0.064  0.797 -0.775  0.382 -0.392 -0.105  -0.307      0  \n",
       "3 -0.342 -1.188 -0.089 -1.017  0.468 -0.724  0.176 -0.052  -0.124      0  \n",
       "4  0.343  0.941  0.111  0.367 -0.142 -0.117 -0.006 -0.054  -0.253      0  \n",
       "\n",
       "[5 rows x 31 columns]"
      ]
     },
     "execution_count": 15,
     "metadata": {},
     "output_type": "execute_result"
    }
   ],
   "source": [
    "selected.head()"
   ]
  },
  {
   "cell_type": "code",
   "execution_count": 16,
   "metadata": {},
   "outputs": [
    {
     "name": "stdout",
     "output_type": "stream",
     "text": [
      "(984, 31)\n"
     ]
    },
    {
     "data": {
      "text/html": [
       "<div>\n",
       "<style scoped>\n",
       "    .dataframe tbody tr th:only-of-type {\n",
       "        vertical-align: middle;\n",
       "    }\n",
       "\n",
       "    .dataframe tbody tr th {\n",
       "        vertical-align: top;\n",
       "    }\n",
       "\n",
       "    .dataframe thead th {\n",
       "        text-align: right;\n",
       "    }\n",
       "</style>\n",
       "<table border=\"1\" class=\"dataframe\">\n",
       "  <thead>\n",
       "    <tr style=\"text-align: right;\">\n",
       "      <th></th>\n",
       "      <th>Time</th>\n",
       "      <th>V1</th>\n",
       "      <th>V2</th>\n",
       "      <th>V3</th>\n",
       "      <th>V4</th>\n",
       "      <th>V5</th>\n",
       "      <th>V6</th>\n",
       "      <th>V7</th>\n",
       "      <th>V8</th>\n",
       "      <th>V9</th>\n",
       "      <th>...</th>\n",
       "      <th>V21</th>\n",
       "      <th>V22</th>\n",
       "      <th>V23</th>\n",
       "      <th>V24</th>\n",
       "      <th>V25</th>\n",
       "      <th>V26</th>\n",
       "      <th>V27</th>\n",
       "      <th>V28</th>\n",
       "      <th>Amount</th>\n",
       "      <th>Class</th>\n",
       "    </tr>\n",
       "  </thead>\n",
       "  <tbody>\n",
       "    <tr>\n",
       "      <th>0</th>\n",
       "      <td>1.184</td>\n",
       "      <td>-3.818</td>\n",
       "      <td>2.551</td>\n",
       "      <td>-4.759</td>\n",
       "      <td>1.637</td>\n",
       "      <td>-1.168</td>\n",
       "      <td>-1.678</td>\n",
       "      <td>-3.145</td>\n",
       "      <td>1.245</td>\n",
       "      <td>-1.693</td>\n",
       "      <td>...</td>\n",
       "      <td>0.838</td>\n",
       "      <td>0.762</td>\n",
       "      <td>-0.418</td>\n",
       "      <td>-0.470</td>\n",
       "      <td>-0.226</td>\n",
       "      <td>0.586</td>\n",
       "      <td>-0.348</td>\n",
       "      <td>0.088</td>\n",
       "      <td>-0.310</td>\n",
       "      <td>1</td>\n",
       "    </tr>\n",
       "    <tr>\n",
       "      <th>1</th>\n",
       "      <td>-0.020</td>\n",
       "      <td>-13.087</td>\n",
       "      <td>7.352</td>\n",
       "      <td>-18.257</td>\n",
       "      <td>10.649</td>\n",
       "      <td>-11.731</td>\n",
       "      <td>-3.659</td>\n",
       "      <td>-14.874</td>\n",
       "      <td>8.810</td>\n",
       "      <td>-5.418</td>\n",
       "      <td>...</td>\n",
       "      <td>2.761</td>\n",
       "      <td>-0.266</td>\n",
       "      <td>-0.413</td>\n",
       "      <td>0.520</td>\n",
       "      <td>-0.744</td>\n",
       "      <td>-0.168</td>\n",
       "      <td>-2.498</td>\n",
       "      <td>-0.711</td>\n",
       "      <td>-0.232</td>\n",
       "      <td>1</td>\n",
       "    </tr>\n",
       "    <tr>\n",
       "      <th>2</th>\n",
       "      <td>-1.039</td>\n",
       "      <td>-1.477</td>\n",
       "      <td>2.122</td>\n",
       "      <td>-1.229</td>\n",
       "      <td>1.202</td>\n",
       "      <td>-0.343</td>\n",
       "      <td>-1.318</td>\n",
       "      <td>-1.528</td>\n",
       "      <td>-0.621</td>\n",
       "      <td>-1.213</td>\n",
       "      <td>...</td>\n",
       "      <td>1.186</td>\n",
       "      <td>-0.040</td>\n",
       "      <td>-0.239</td>\n",
       "      <td>0.110</td>\n",
       "      <td>0.045</td>\n",
       "      <td>-0.569</td>\n",
       "      <td>0.481</td>\n",
       "      <td>-0.048</td>\n",
       "      <td>-0.349</td>\n",
       "      <td>1</td>\n",
       "    </tr>\n",
       "    <tr>\n",
       "      <th>3</th>\n",
       "      <td>-1.131</td>\n",
       "      <td>-3.601</td>\n",
       "      <td>4.519</td>\n",
       "      <td>-6.341</td>\n",
       "      <td>6.215</td>\n",
       "      <td>-5.830</td>\n",
       "      <td>-2.478</td>\n",
       "      <td>-9.938</td>\n",
       "      <td>2.830</td>\n",
       "      <td>-5.659</td>\n",
       "      <td>...</td>\n",
       "      <td>2.264</td>\n",
       "      <td>0.621</td>\n",
       "      <td>-0.094</td>\n",
       "      <td>0.537</td>\n",
       "      <td>0.398</td>\n",
       "      <td>0.008</td>\n",
       "      <td>2.054</td>\n",
       "      <td>0.836</td>\n",
       "      <td>-0.338</td>\n",
       "      <td>1</td>\n",
       "    </tr>\n",
       "    <tr>\n",
       "      <th>4</th>\n",
       "      <td>-0.339</td>\n",
       "      <td>-4.312</td>\n",
       "      <td>1.886</td>\n",
       "      <td>-2.339</td>\n",
       "      <td>-0.475</td>\n",
       "      <td>-1.185</td>\n",
       "      <td>-2.112</td>\n",
       "      <td>-2.123</td>\n",
       "      <td>0.273</td>\n",
       "      <td>0.290</td>\n",
       "      <td>...</td>\n",
       "      <td>0.551</td>\n",
       "      <td>-0.068</td>\n",
       "      <td>-1.115</td>\n",
       "      <td>0.269</td>\n",
       "      <td>-0.021</td>\n",
       "      <td>-0.963</td>\n",
       "      <td>-0.919</td>\n",
       "      <td>0.001</td>\n",
       "      <td>-0.113</td>\n",
       "      <td>1</td>\n",
       "    </tr>\n",
       "    <tr>\n",
       "      <th>5</th>\n",
       "      <td>-0.560</td>\n",
       "      <td>-13.193</td>\n",
       "      <td>12.786</td>\n",
       "      <td>-9.907</td>\n",
       "      <td>3.320</td>\n",
       "      <td>-4.801</td>\n",
       "      <td>5.760</td>\n",
       "      <td>-18.751</td>\n",
       "      <td>-37.353</td>\n",
       "      <td>-0.392</td>\n",
       "      <td>...</td>\n",
       "      <td>27.203</td>\n",
       "      <td>-8.887</td>\n",
       "      <td>5.304</td>\n",
       "      <td>-0.639</td>\n",
       "      <td>0.263</td>\n",
       "      <td>-0.109</td>\n",
       "      <td>1.270</td>\n",
       "      <td>0.939</td>\n",
       "      <td>-0.349</td>\n",
       "      <td>1</td>\n",
       "    </tr>\n",
       "    <tr>\n",
       "      <th>6</th>\n",
       "      <td>-1.270</td>\n",
       "      <td>1.081</td>\n",
       "      <td>0.416</td>\n",
       "      <td>0.863</td>\n",
       "      <td>2.521</td>\n",
       "      <td>-0.005</td>\n",
       "      <td>0.563</td>\n",
       "      <td>-0.123</td>\n",
       "      <td>0.223</td>\n",
       "      <td>-0.674</td>\n",
       "      <td>...</td>\n",
       "      <td>-0.159</td>\n",
       "      <td>-0.305</td>\n",
       "      <td>0.054</td>\n",
       "      <td>0.012</td>\n",
       "      <td>0.375</td>\n",
       "      <td>-0.106</td>\n",
       "      <td>0.021</td>\n",
       "      <td>0.011</td>\n",
       "      <td>-0.347</td>\n",
       "      <td>1</td>\n",
       "    </tr>\n",
       "    <tr>\n",
       "      <th>7</th>\n",
       "      <td>-1.027</td>\n",
       "      <td>-1.309</td>\n",
       "      <td>1.786</td>\n",
       "      <td>-1.371</td>\n",
       "      <td>1.214</td>\n",
       "      <td>-0.337</td>\n",
       "      <td>-1.390</td>\n",
       "      <td>-1.709</td>\n",
       "      <td>0.668</td>\n",
       "      <td>-1.700</td>\n",
       "      <td>...</td>\n",
       "      <td>0.534</td>\n",
       "      <td>-0.022</td>\n",
       "      <td>-0.300</td>\n",
       "      <td>-0.226</td>\n",
       "      <td>0.364</td>\n",
       "      <td>-0.475</td>\n",
       "      <td>0.571</td>\n",
       "      <td>0.293</td>\n",
       "      <td>-0.349</td>\n",
       "      <td>1</td>\n",
       "    </tr>\n",
       "    <tr>\n",
       "      <th>8</th>\n",
       "      <td>-1.091</td>\n",
       "      <td>-1.110</td>\n",
       "      <td>0.811</td>\n",
       "      <td>-1.138</td>\n",
       "      <td>0.935</td>\n",
       "      <td>-2.330</td>\n",
       "      <td>-0.116</td>\n",
       "      <td>-1.622</td>\n",
       "      <td>0.458</td>\n",
       "      <td>-0.912</td>\n",
       "      <td>...</td>\n",
       "      <td>0.642</td>\n",
       "      <td>0.842</td>\n",
       "      <td>0.177</td>\n",
       "      <td>0.081</td>\n",
       "      <td>-0.259</td>\n",
       "      <td>0.708</td>\n",
       "      <td>0.419</td>\n",
       "      <td>0.081</td>\n",
       "      <td>0.463</td>\n",
       "      <td>1</td>\n",
       "    </tr>\n",
       "    <tr>\n",
       "      <th>9</th>\n",
       "      <td>-0.952</td>\n",
       "      <td>1.186</td>\n",
       "      <td>-0.570</td>\n",
       "      <td>0.127</td>\n",
       "      <td>-0.301</td>\n",
       "      <td>-0.930</td>\n",
       "      <td>-0.784</td>\n",
       "      <td>-0.441</td>\n",
       "      <td>-0.096</td>\n",
       "      <td>-0.649</td>\n",
       "      <td>...</td>\n",
       "      <td>0.010</td>\n",
       "      <td>-0.075</td>\n",
       "      <td>-0.003</td>\n",
       "      <td>0.328</td>\n",
       "      <td>0.332</td>\n",
       "      <td>-0.299</td>\n",
       "      <td>0.025</td>\n",
       "      <td>0.050</td>\n",
       "      <td>-0.023</td>\n",
       "      <td>0</td>\n",
       "    </tr>\n",
       "  </tbody>\n",
       "</table>\n",
       "<p>10 rows × 31 columns</p>\n",
       "</div>"
      ],
      "text/plain": [
       "    Time      V1      V2      V3      V4      V5     V6      V7      V8  \\\n",
       "0  1.184  -3.818   2.551  -4.759   1.637  -1.168 -1.678  -3.145   1.245   \n",
       "1 -0.020 -13.087   7.352 -18.257  10.649 -11.731 -3.659 -14.874   8.810   \n",
       "2 -1.039  -1.477   2.122  -1.229   1.202  -0.343 -1.318  -1.528  -0.621   \n",
       "3 -1.131  -3.601   4.519  -6.341   6.215  -5.830 -2.478  -9.938   2.830   \n",
       "4 -0.339  -4.312   1.886  -2.339  -0.475  -1.185 -2.112  -2.123   0.273   \n",
       "5 -0.560 -13.193  12.786  -9.907   3.320  -4.801  5.760 -18.751 -37.353   \n",
       "6 -1.270   1.081   0.416   0.863   2.521  -0.005  0.563  -0.123   0.223   \n",
       "7 -1.027  -1.309   1.786  -1.371   1.214  -0.337 -1.390  -1.709   0.668   \n",
       "8 -1.091  -1.110   0.811  -1.138   0.935  -2.330 -0.116  -1.622   0.458   \n",
       "9 -0.952   1.186  -0.570   0.127  -0.301  -0.930 -0.784  -0.441  -0.096   \n",
       "\n",
       "      V9  ...     V21    V22    V23    V24    V25    V26    V27    V28  \\\n",
       "0 -1.693  ...   0.838  0.762 -0.418 -0.470 -0.226  0.586 -0.348  0.088   \n",
       "1 -5.418  ...   2.761 -0.266 -0.413  0.520 -0.744 -0.168 -2.498 -0.711   \n",
       "2 -1.213  ...   1.186 -0.040 -0.239  0.110  0.045 -0.569  0.481 -0.048   \n",
       "3 -5.659  ...   2.264  0.621 -0.094  0.537  0.398  0.008  2.054  0.836   \n",
       "4  0.290  ...   0.551 -0.068 -1.115  0.269 -0.021 -0.963 -0.919  0.001   \n",
       "5 -0.392  ...  27.203 -8.887  5.304 -0.639  0.263 -0.109  1.270  0.939   \n",
       "6 -0.674  ...  -0.159 -0.305  0.054  0.012  0.375 -0.106  0.021  0.011   \n",
       "7 -1.700  ...   0.534 -0.022 -0.300 -0.226  0.364 -0.475  0.571  0.293   \n",
       "8 -0.912  ...   0.642  0.842  0.177  0.081 -0.259  0.708  0.419  0.081   \n",
       "9 -0.649  ...   0.010 -0.075 -0.003  0.328  0.332 -0.299  0.025  0.050   \n",
       "\n",
       "   Amount  Class  \n",
       "0  -0.310      1  \n",
       "1  -0.232      1  \n",
       "2  -0.349      1  \n",
       "3  -0.338      1  \n",
       "4  -0.113      1  \n",
       "5  -0.349      1  \n",
       "6  -0.347      1  \n",
       "7  -0.349      1  \n",
       "8   0.463      1  \n",
       "9  -0.023      0  \n",
       "\n",
       "[10 rows x 31 columns]"
      ]
     },
     "execution_count": 16,
     "metadata": {},
     "output_type": "execute_result"
    }
   ],
   "source": [
    "subsample = pd.concat([selected, frauds])\n",
    "print(subsample.shape)\n",
    "subsample.head()\n",
    "subsample = subsample.sample(frac=1).reset_index(drop=True)\n",
    "subsample.head(10)"
   ]
  },
  {
   "cell_type": "code",
   "execution_count": 17,
   "metadata": {},
   "outputs": [
    {
     "data": {
      "text/plain": [
       "Text(0.5, 0, 'Class (0:Non-Fraudulent, 1:Fraudulent)')"
      ]
     },
     "execution_count": 17,
     "metadata": {},
     "output_type": "execute_result"
    },
    {
     "data": {
      "image/png": "[encoded data removed]",
      "text/plain": [
       "<Figure size 576x432 with 1 Axes>"
      ]
     },
     "metadata": {
      "needs_background": "light"
     },
     "output_type": "display_data"
    }
   ],
   "source": [
    "plt.figure(figsize=(8,6))\n",
    "sns.countplot(subsample.Class)\n",
    "plt.title('Count of Fraudulent vs. Non-Fraudulent Transactions')\n",
    "plt.ylabel('Count')\n",
    "plt.xlabel('Class (0:Non-Fraudulent, 1:Fraudulent)')"
   ]
  },
  {
   "cell_type": "code",
   "execution_count": 18,
   "metadata": {},
   "outputs": [
    {
     "data": {
      "text/plain": [
       "Text(0.5, 1, 'Heatmap of Correlation')"
      ]
     },
     "execution_count": 18,
     "metadata": {},
     "output_type": "execute_result"
    },
    {
     "data": {
      "image/png": "[encoded data removed]",
      "text/plain": [
       "<Figure size 864x720 with 2 Axes>"
      ]
     },
     "metadata": {
      "needs_background": "light"
     },
     "output_type": "display_data"
    }
   ],
   "source": [
    "corr = subsample.corr()\n",
    "plt.figure(figsize=(12,10))\n",
    "heat = sns.heatmap(data=corr)\n",
    "plt.title('Heatmap of Correlation')"
   ]
  },
  {
   "cell_type": "code",
   "execution_count": 19,
   "metadata": {},
   "outputs": [
    {
     "data": {
      "text/plain": [
       "V3    -0.565\n",
       "V9    -0.571\n",
       "V10   -0.626\n",
       "V12   -0.687\n",
       "V14   -0.746\n",
       "V16   -0.597\n",
       "V17   -0.560\n",
       "Name: Class, dtype: float64"
      ]
     },
     "execution_count": 19,
     "metadata": {},
     "output_type": "execute_result"
    }
   ],
   "source": [
    "corr[corr['Class']<-0.5 ]['Class']"
   ]
  },
  {
   "cell_type": "code",
   "execution_count": 20,
   "metadata": {},
   "outputs": [
    {
     "data": {
      "text/plain": [
       "V4       0.715\n",
       "V11      0.685\n",
       "Class    1.000\n",
       "Name: Class, dtype: float64"
      ]
     },
     "execution_count": 20,
     "metadata": {},
     "output_type": "execute_result"
    }
   ],
   "source": [
    "corr[corr['Class']>0.5 ]['Class']"
   ]
  },
  {
   "cell_type": "code",
   "execution_count": 21,
   "metadata": {},
   "outputs": [],
   "source": [
    "# remove strongly correlated attributes\n",
    "subsample.drop(['V3', 'V9', 'V10', 'V12', 'V14', 'V16', 'V17', 'V4', 'V11'], axis=1, inplace=True)"
   ]
  },
  {
   "cell_type": "markdown",
   "metadata": {},
   "source": [
    "## Dimensionality Reduction"
   ]
  },
  {
   "cell_type": "code",
   "execution_count": 22,
   "metadata": {},
   "outputs": [],
   "source": [
    "X = subsample.drop('Class', axis=1)\n",
    "y = subsample['Class']"
   ]
  },
  {
   "cell_type": "code",
   "execution_count": 23,
   "metadata": {},
   "outputs": [],
   "source": [
    "X_reduced_tsne = TSNE(n_components=2, random_state=42).fit_transform(X.values)"
   ]
  },
  {
   "cell_type": "code",
   "execution_count": 24,
   "metadata": {},
   "outputs": [],
   "source": [
    "target = df['Class']\n",
    "new_df = df.drop(['Class'], axis=1)"
   ]
  },
  {
   "cell_type": "code",
   "execution_count": 26,
   "metadata": {},
   "outputs": [
    {
     "data": {
      "text/plain": [
       "<matplotlib.legend.Legend at 0x7fa104cb4ac8>"
      ]
     },
     "execution_count": 26,
     "metadata": {},
     "output_type": "execute_result"
    },
    {
     "data": {
      "image/png": "[encoded data removed]",
      "text/plain": [
       "<Figure size 1728x1152 with 1 Axes>"
      ]
     },
     "metadata": {
      "needs_background": "light"
     },
     "output_type": "display_data"
    }
   ],
   "source": [
    "f, ax = plt.subplots(figsize=(24,16))\n",
    "\n",
    "\n",
    "blue_patch = mpatches.Patch(color='#0A0AFF', label='No Fraud')\n",
    "red_patch = mpatches.Patch(color='#AF0000', label='Fraud')\n",
    "\n",
    "ax.scatter(X_reduced_tsne[:,0], X_reduced_tsne[:,1], c=(y == 0), cmap='coolwarm', label='No Fraud', linewidths=2)\n",
    "ax.scatter(X_reduced_tsne[:,0], X_reduced_tsne[:,1], c=(y == 1), cmap='coolwarm', label='Fraud', linewidths=2)\n",
    "ax.set_title('t-SNE', fontsize=14)\n",
    "\n",
    "ax.grid(True)\n",
    "\n",
    "ax.legend(handles=[blue_patch, red_patch])"
   ]
  },
  {
   "cell_type": "markdown",
   "metadata": {},
   "source": [
    "## Classification"
   ]
  },
  {
   "cell_type": "code",
   "execution_count": 27,
   "metadata": {},
   "outputs": [],
   "source": [
    "x_train, x_test, y_train, y_test = train_test_split(X, y, test_size=0.3, stratify=y)"
   ]
  },
  {
   "cell_type": "code",
   "execution_count": 28,
   "metadata": {},
   "outputs": [
    {
     "name": "stdout",
     "output_type": "stream",
     "text": [
      "Count Fraudulent records in train: 344\n",
      "Count Fraudulent records in test: 148\n",
      "Percentage Fraudulent records in train: 50.0\n",
      "Percentage Fraudulent records in test: 50.0\n"
     ]
    }
   ],
   "source": [
    "print(\"Count Fraudulent records in train:\", y_train[y_train==1].count())\n",
    "print(\"Count Fraudulent records in test:\", y_test[y_test==1].count())\n",
    "print(\"Percentage Fraudulent records in train:\", y_train[y_train==1].count()/y_train.shape[0]*100)\n",
    "print(\"Percentage Fraudulent records in test:\", y_test[y_test==1].count()/y_test.shape[0]*100)"
   ]
  },
  {
   "cell_type": "code",
   "execution_count": 29,
   "metadata": {},
   "outputs": [],
   "source": [
    "models_under = []\n",
    "\n",
    "models_under.append(('LR', LogisticRegression()))\n",
    "models_under.append(('LDA', LinearDiscriminantAnalysis()))\n",
    "models_under.append(('KNN', KNeighborsClassifier()))\n",
    "models_under.append(('DTree', DecisionTreeClassifier()))\n",
    "models_under.append(('SVM', SVC()))\n",
    "models_under.append(('XGB', XGBClassifier()))\n",
    "models_under.append(('RF', RandomForestClassifier()))\n",
    "\n",
    "#testing models\n",
    "\n",
    "results_under = []\n",
    "names_under = []\n",
    "\n",
    "for name, model in models_under:\n",
    "    kfold = KFold(n_splits=3, random_state=42)\n",
    "    cv_results = cross_val_score(model, x_train, y_train, cv=kfold, scoring='roc_auc')\n",
    "    results_under.append(cv_results)\n",
    "    names_under.append(name)"
   ]
  },
  {
   "cell_type": "code",
   "execution_count": 30,
   "metadata": {},
   "outputs": [
    {
     "name": "stdout",
     "output_type": "stream",
     "text": [
      "LR: 0.939285 (0.009863)\n",
      "LDA: 0.926795 (0.015192)\n",
      "KNN: 0.950141 (0.008317)\n",
      "DTree: 0.843301 (0.015821)\n",
      "SVM: 0.943349 (0.005640)\n",
      "XGB: 0.954235 (0.007472)\n",
      "RF: 0.960331 (0.006617)\n"
     ]
    }
   ],
   "source": [
    "for i, cv_res in enumerate(results_under):\n",
    "    msg = '%s: %f (%f)' % (names_under[i], cv_res.mean(), cv_res.std())\n",
    "    print(msg)"
   ]
  },
  {
   "cell_type": "code",
   "execution_count": 50,
   "metadata": {},
   "outputs": [
    {
     "data": {
      "image/png": "[encoded data removed]",
      "text/plain": [
       "<Figure size 864x720 with 1 Axes>"
      ]
     },
     "metadata": {
      "needs_background": "light"
     },
     "output_type": "display_data"
    }
   ],
   "source": [
    "#Compare Algorithms\n",
    "\n",
    "fig = plt.figure(figsize=(12,10))\n",
    "plt.title('Comparison of Classification - UnderSampling')\n",
    "plt.xlabel('Model')\n",
    "plt.ylabel('ROC-AUC Score')\n",
    "plt.boxplot(results_under)\n",
    "ax = fig.add_subplot(111)\n",
    "ax.set_xticklabels(names_under)\n",
    "plt.show()"
   ]
  },
  {
   "cell_type": "markdown",
   "metadata": {},
   "source": [
    "# Test imblearn\n",
    "#### (no Data Preparation)"
   ]
  },
  {
   "cell_type": "code",
   "execution_count": 32,
   "metadata": {},
   "outputs": [
    {
     "name": "stderr",
     "output_type": "stream",
     "text": [
      "Using TensorFlow backend.\n"
     ]
    }
   ],
   "source": [
    "from imblearn.over_sampling import SMOTE\n",
    "from imblearn.over_sampling import ADASYN\n",
    "\n",
    "from collections import Counter"
   ]
  },
  {
   "cell_type": "markdown",
   "metadata": {},
   "source": [
    "## SMOTE"
   ]
  },
  {
   "cell_type": "code",
   "execution_count": 33,
   "metadata": {},
   "outputs": [],
   "source": [
    "X = df.drop('Class', axis=1)\n",
    "y = df['Class']"
   ]
  },
  {
   "cell_type": "code",
   "execution_count": 34,
   "metadata": {},
   "outputs": [
    {
     "name": "stdout",
     "output_type": "stream",
     "text": [
      "[(0, 284315), (1, 284315)]\n"
     ]
    }
   ],
   "source": [
    "X_resampled_SMOTE, y_resampled_SMOTE = SMOTE().fit_resample(X, y)\n",
    "print(sorted(Counter(y_resampled_SMOTE).items()))"
   ]
  },
  {
   "cell_type": "code",
   "execution_count": 35,
   "metadata": {},
   "outputs": [],
   "source": [
    "x_train, x_test, y_train, y_test = train_test_split(X_resampled_SMOTE, y_resampled_SMOTE, test_size=0.3)"
   ]
  },
  {
   "cell_type": "code",
   "execution_count": 36,
   "metadata": {},
   "outputs": [],
   "source": [
    "models_SMOTE = []\n",
    "\n",
    "models_SMOTE.append(('LR', LogisticRegression()))\n",
    "models_SMOTE.append(('LDA', LinearDiscriminantAnalysis()))\n",
    "models_SMOTE.append(('KNN', KNeighborsClassifier()))\n",
    "models_SMOTE.append(('DTree', DecisionTreeClassifier()))\n",
    "models_SMOTE.append(('SVM', SVC()))\n",
    "models_SMOTE.append(('XGB', XGBClassifier()))\n",
    "models_SMOTE.append(('RF', RandomForestClassifier()))\n",
    "\n",
    "#testing models\n",
    "\n",
    "results_SMOTE = []\n",
    "names_SMOTE = []\n",
    "\n",
    "for name, model in models_SMOTE:\n",
    "    kfold = KFold(n_splits=3, random_state=42)\n",
    "    cv_results = cross_val_score(model, x_train, y_train, cv=kfold, scoring='roc_auc')\n",
    "    results_SMOTE.append(cv_results)\n",
    "    names_SMOTE.append(name)"
   ]
  },
  {
   "cell_type": "code",
   "execution_count": 38,
   "metadata": {},
   "outputs": [
    {
     "name": "stdout",
     "output_type": "stream",
     "text": [
      "LR: 0.989258 (0.000080)\n",
      "LDA: 0.977018 (0.000357)\n",
      "KNN: 0.999465 (0.000017)\n",
      "DTree: 0.997100 (0.000175)\n",
      "SVM: 0.997092 (0.000053)\n",
      "XGB: 0.998527 (0.000054)\n",
      "RF: 0.999993 (0.000005)\n"
     ]
    }
   ],
   "source": [
    "for i, cv_res in enumerate(results_SMOTE):\n",
    "    msg = '%s: %f (%f)' % (names_SMOTE[i], cv_res.mean(), cv_res.std())\n",
    "    print(msg)"
   ]
  },
  {
   "cell_type": "code",
   "execution_count": 49,
   "metadata": {},
   "outputs": [
    {
     "data": {
      "image/png": "[encoded data removed]",
      "text/plain": [
       "<Figure size 864x720 with 1 Axes>"
      ]
     },
     "metadata": {
      "needs_background": "light"
     },
     "output_type": "display_data"
    }
   ],
   "source": [
    "#Compare Algorithms\n",
    "\n",
    "fig = plt.figure(figsize=(12,10))\n",
    "plt.title('Comparison of Classification - SMOTE OverSampling')\n",
    "plt.xlabel('Model')\n",
    "plt.ylabel('ROC-AUC Score')\n",
    "plt.boxplot(results_SMOTE)\n",
    "ax = fig.add_subplot(111)\n",
    "ax.set_xticklabels(names_SMOTE)\n",
    "plt.show()"
   ]
  },
  {
   "cell_type": "markdown",
   "metadata": {},
   "source": [
    "## ADASYN"
   ]
  },
  {
   "cell_type": "code",
   "execution_count": 40,
   "metadata": {},
   "outputs": [
    {
     "name": "stdout",
     "output_type": "stream",
     "text": [
      "[(0, 284315), (1, 284306)]\n"
     ]
    }
   ],
   "source": [
    "# applying ADASYN\n",
    "X_resampled_ADASYN, y_resampled_ADASYN = ADASYN().fit_resample(X, y)\n",
    "print(sorted(Counter(y_resampled_ADASYN).items()))\n",
    "x_train, x_test, y_train, y_test = train_test_split(X_resampled_ADASYN, y_resampled_ADASYN, test_size=0.3)"
   ]
  },
  {
   "cell_type": "code",
   "execution_count": 51,
   "metadata": {},
   "outputs": [],
   "source": [
    "models_adasyn = []\n",
    "\n",
    "models_adasyn.append(('LR', LogisticRegression()))\n",
    "models_adasyn.append(('LDA', LinearDiscriminantAnalysis()))\n",
    "models_adasyn.append(('KNN', KNeighborsClassifier()))\n",
    "models_adasyn.append(('DTree', DecisionTreeClassifier()))\n",
    "models_adasyn.append(('SVM', SVC()))\n",
    "models_adasyn.append(('XGB', XGBClassifier()))\n",
    "models_adasyn.append(('RF', RandomForestClassifier()))\n",
    "\n",
    "#testing models\n",
    "\n",
    "results_adasyn = []\n",
    "names_adasyn = []\n",
    "\n",
    "for name, model in models_adasyn:\n",
    "    kfold = KFold(n_splits=3, random_state=42)\n",
    "    cv_results = cross_val_score(model, x_train, y_train, cv=kfold, scoring='roc_auc')\n",
    "    results_adasyn.append(cv_results)\n",
    "    names_adasyn.append(name)"
   ]
  },
  {
   "cell_type": "code",
   "execution_count": 52,
   "metadata": {},
   "outputs": [
    {
     "name": "stdout",
     "output_type": "stream",
     "text": [
      "LR: 0.959872 (0.000419)\n",
      "LDA: 0.931737 (0.000414)\n",
      "KNN: 0.999437 (0.000082)\n",
      "DTree: 0.997724 (0.000133)\n",
      "SVM: 0.998399 (0.000040)\n",
      "XGB: 0.995015 (0.000371)\n",
      "RF: 0.999994 (0.000004)\n"
     ]
    }
   ],
   "source": [
    "for i, cv_res in enumerate(results_adasyn):\n",
    "    msg = '%s: %f (%f)' % (names_SMOTE[i], cv_res.mean(), cv_res.std())\n",
    "    print(msg)"
   ]
  },
  {
   "cell_type": "code",
   "execution_count": 53,
   "metadata": {},
   "outputs": [
    {
     "data": {
      "image/png": "[encoded data removed]",
      "text/plain": [
       "<Figure size 864x720 with 1 Axes>"
      ]
     },
     "metadata": {
      "needs_background": "light"
     },
     "output_type": "display_data"
    }
   ],
   "source": [
    "#Compare Algorithms\n",
    "\n",
    "fig = plt.figure(figsize=(12,10))\n",
    "plt.title('Comparison of Classification - ADASYN OverSampling')\n",
    "plt.xlabel('Model')\n",
    "plt.ylabel('ROC-AUC Score')\n",
    "plt.boxplot(results_adasyn)\n",
    "ax = fig.add_subplot(111)\n",
    "ax.set_xticklabels(names_adasyn)\n",
    "plt.show()"
   ]
  },
  {
   "cell_type": "code",
   "execution_count": null,
   "metadata": {},
   "outputs": [],
   "source": []
  }
 ],
 "metadata": {
  "kernelspec": {
   "display_name": "Python 3",
   "language": "python",
   "name": "python3"
  },
  "language_info": {
   "codemirror_mode": {
    "name": "ipython",
    "version": 3
   },
   "file_extension": ".py",
   "mimetype": "text/x-python",
   "name": "python",
   "nbconvert_exporter": "python",
   "pygments_lexer": "ipython3",
   "version": "3.7.3"
  }
 },
 "nbformat": 4,
 "nbformat_minor": 4
}
